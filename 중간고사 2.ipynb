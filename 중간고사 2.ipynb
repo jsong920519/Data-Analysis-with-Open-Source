{
  "nbformat": 4,
  "nbformat_minor": 0,
  "metadata": {
    "colab": {
      "provenance": [],
      "include_colab_link": true
    },
    "kernelspec": {
      "name": "python3",
      "display_name": "Python 3"
    },
    "language_info": {
      "name": "python"
    }
  },
  "cells": [
    {
      "cell_type": "markdown",
      "metadata": {
        "id": "view-in-github",
        "colab_type": "text"
      },
      "source": [
        "<a href=\"https://colab.research.google.com/github/jsong920519/Data-Analysis-with-Open-Source/blob/main/%EC%A4%91%EA%B0%84%EA%B3%A0%EC%82%AC%202.ipynb\" target=\"_parent\"><img src=\"https://colab.research.google.com/assets/colab-badge.svg\" alt=\"Open In Colab\"/></a>"
      ]
    },
    {
      "cell_type": "code",
      "source": [
        "import requests\n",
        "import pandas as pd\n",
        "import json\n",
        "\n",
        "# 기본 URL (본인 인증키 그대로 사용)\n",
        "url = \"http://openapi.seoul.go.kr:8088/74537255746a793032307774485476/json/energyUseDataSummaryInfo/1/5/{}/{}\"\n",
        "\n",
        "table = []\n",
        "\n",
        "for year in range(2015, 2025):\n",
        "    for month in range(1, 13):\n",
        "        new_month = f\"{month:02d}\"\n",
        "        request_url = url.format(year, new_month)\n",
        "\n",
        "        response = requests.get(request_url)\n",
        "        if response.status_code == 200:\n",
        "            data = response.json()\n",
        "\n",
        "            if \"energyUseDataSummaryInfo\" in data and \"row\" in data[\"energyUseDataSummaryInfo\"]:\n",
        "                rows = data[\"energyUseDataSummaryInfo\"][\"row\"]\n",
        "\n",
        "                # 개인 유형 데이터만 선택\n",
        "                personal = [r for r in rows if r[\"MM_TYPE\"] == \"개인\"]\n",
        "\n",
        "                if personal:\n",
        "                    print(\"API 호출 성공 - 개인 유형의 상위 5개 데이터 확인:\")\n",
        "                    for r in personal[:5]:\n",
        "                        print({\n",
        "                            \"YEAR\": r[\"YEAR\"],\n",
        "                            \"MON\": r[\"MON\"],\n",
        "                            \"EUS\": r[\"EUS\"],  # 전기\n",
        "                            \"GUS\": r[\"GUS\"],  # 가스\n",
        "                            \"WUS\": r[\"WUS\"],  # 수도\n",
        "                            \"HUS\": r[\"HUS\"]   # 지역난방\n",
        "                        })\n",
        "            else:\n",
        "                print(\"데이터 없음\")\n",
        "        else:\n",
        "            print(\"API 호출 실패\")\n",
        "\n",
        "df = pd.DataFrame(table)\n",
        "\n",
        "df['MON'] = df['MON'].astype(int)\n",
        "df.loc[(df['MON'] >= 3) & (df['MON'] <= 5), 'season'] = '봄'\n",
        "df.loc[(df['MON'] >= 6) & (df['MON'] <= 8), 'season'] = '여름'\n",
        "df.loc[(df['MON'] >= 9) & (df['MON'] <= 11), 'season'] = '가을'\n",
        "df.loc[(df['MON'] == 12) | (df['MON'] <= 2), 'season'] = '겨울'\n",
        "print(df[['year', 'MON', 'season']].head(12))"
      ],
      "metadata": {
        "colab": {
          "base_uri": "https://localhost:8080/",
          "height": 1000
        },
        "id": "jdUTA-sWufQs",
        "outputId": "f104a0fb-e305-4e50-8e4e-855bb7badf40"
      },
      "execution_count": 37,
      "outputs": [
        {
          "output_type": "stream",
          "name": "stdout",
          "text": [
            "API 호출 성공 - 개인 유형의 상위 5개 데이터 확인:\n",
            "{'YEAR': '2015', 'MON': '01', 'EUS': '193784708', 'GUS': '59133720', 'WUS': '12819757.886', 'HUS': '22740838.937'}\n",
            "API 호출 성공 - 개인 유형의 상위 5개 데이터 확인:\n",
            "{'YEAR': '2015', 'MON': '02', 'EUS': '189974230', 'GUS': '56487358', 'WUS': '12656888.218', 'HUS': '18793320.213'}\n",
            "API 호출 성공 - 개인 유형의 상위 5개 데이터 확인:\n",
            "{'YEAR': '2015', 'MON': '05', 'EUS': '177289769', 'GUS': '22060892', 'WUS': '13086734.214', 'HUS': '1320895.801'}\n",
            "API 호출 성공 - 개인 유형의 상위 5개 데이터 확인:\n",
            "{'YEAR': '2015', 'MON': '06', 'EUS': '186073153', 'GUS': '12677645', 'WUS': '14241651.402', 'HUS': '294312.634'}\n",
            "API 호출 성공 - 개인 유형의 상위 5개 데이터 확인:\n",
            "{'YEAR': '2015', 'MON': '07', 'EUS': '165114568', 'GUS': '8893640', 'WUS': '12083879.038', 'HUS': '702863.645'}\n",
            "API 호출 성공 - 개인 유형의 상위 5개 데이터 확인:\n",
            "{'YEAR': '2015', 'MON': '08', 'EUS': '242000479', 'GUS': '7619018', 'WUS': '15164553.742', 'HUS': '460288.965'}\n",
            "API 호출 성공 - 개인 유형의 상위 5개 데이터 확인:\n",
            "{'YEAR': '2015', 'MON': '10', 'EUS': '186473958', 'GUS': '8924018', 'WUS': '14711828.766', 'HUS': '3167520.127'}\n",
            "API 호출 성공 - 개인 유형의 상위 5개 데이터 확인:\n",
            "{'YEAR': '2015', 'MON': '12', 'EUS': '203388142', 'GUS': '40095231', 'WUS': '13904162.958', 'HUS': '21102616.717'}\n",
            "API 호출 성공 - 개인 유형의 상위 5개 데이터 확인:\n",
            "{'YEAR': '2016', 'MON': '01', 'EUS': '215330620', 'GUS': '57641741', 'WUS': '13218916.436', 'HUS': '27186166.133'}\n",
            "API 호출 성공 - 개인 유형의 상위 5개 데이터 확인:\n",
            "{'YEAR': '2016', 'MON': '02', 'EUS': '216677664', 'GUS': '68879796', 'WUS': '13312113.622', 'HUS': '21452994.715'}\n",
            "API 호출 성공 - 개인 유형의 상위 5개 데이터 확인:\n",
            "{'YEAR': '2016', 'MON': '03', 'EUS': '203451798', 'GUS': '60019600', 'WUS': '13191615.499', 'HUS': '14070182.978'}\n",
            "API 호출 성공 - 개인 유형의 상위 5개 데이터 확인:\n",
            "{'YEAR': '2016', 'MON': '04', 'EUS': '202541336', 'GUS': '40370608', 'WUS': '13748935.736', 'HUS': '4556396.936'}\n",
            "API 호출 성공 - 개인 유형의 상위 5개 데이터 확인:\n",
            "{'YEAR': '2016', 'MON': '05', 'EUS': '195448592', 'GUS': '23077064', 'WUS': '13762618.524', 'HUS': '1166907.615'}\n",
            "API 호출 성공 - 개인 유형의 상위 5개 데이터 확인:\n",
            "{'YEAR': '2016', 'MON': '06', 'EUS': '205061790', 'GUS': '13344932', 'WUS': '14543461.284', 'HUS': '340601.066'}\n",
            "API 호출 성공 - 개인 유형의 상위 5개 데이터 확인:\n",
            "{'YEAR': '2016', 'MON': '09', 'EUS': '241676328', 'GUS': '7030657', 'WUS': '15233262.266', 'HUS': '2597269.386'}\n",
            "API 호출 성공 - 개인 유형의 상위 5개 데이터 확인:\n",
            "{'YEAR': '2016', 'MON': '10', 'EUS': '197827666', 'GUS': '10129547', 'WUS': '15173666.268', 'HUS': '2142328.405'}\n",
            "API 호출 성공 - 개인 유형의 상위 5개 데이터 확인:\n",
            "{'YEAR': '2016', 'MON': '11', 'EUS': '204812090', 'GUS': '23915383', 'WUS': '7215169', 'HUS': '10865402.481'}\n",
            "API 호출 성공 - 개인 유형의 상위 5개 데이터 확인:\n",
            "{'YEAR': '2017', 'MON': '01', 'EUS': '222980440', 'GUS': '61781772', 'WUS': '14077034.016', 'HUS': '20567265.356'}\n",
            "API 호출 성공 - 개인 유형의 상위 5개 데이터 확인:\n",
            "{'YEAR': '2017', 'MON': '02', 'EUS': '226181991', 'GUS': '73537514', 'WUS': '13724166.552', 'HUS': '17733782.246'}\n",
            "API 호출 성공 - 개인 유형의 상위 5개 데이터 확인:\n",
            "{'YEAR': '2017', 'MON': '03', 'EUS': '208386870', 'GUS': '64297007', 'WUS': '13598081.92', 'HUS': '11477962.549'}\n",
            "API 호출 성공 - 개인 유형의 상위 5개 데이터 확인:\n",
            "{'YEAR': '2017', 'MON': '05', 'EUS': '209894672', 'GUS': '25103152', 'WUS': '12950202.184', 'HUS': '19809726.81'}\n",
            "API 호출 성공 - 개인 유형의 상위 5개 데이터 확인:\n",
            "{'YEAR': '2017', 'MON': '08', 'EUS': '297850172', 'GUS': '8429188', 'WUS': '14291829.084', 'HUS': '118927.011'}\n",
            "API 호출 성공 - 개인 유형의 상위 5개 데이터 확인:\n",
            "{'YEAR': '2017', 'MON': '09', 'EUS': '232360099', 'GUS': '8981707', 'WUS': '13842675.562', 'HUS': '1279967.753'}\n",
            "API 호출 성공 - 개인 유형의 상위 5개 데이터 확인:\n",
            "{'YEAR': '2017', 'MON': '10', 'EUS': '202205893', 'GUS': '11910453', 'WUS': '13811362.596', 'HUS': '2177857.689'}\n",
            "API 호출 성공 - 개인 유형의 상위 5개 데이터 확인:\n",
            "{'YEAR': '2017', 'MON': '11', 'EUS': '215620132', 'GUS': '26041170', 'WUS': '13268391.686', 'HUS': '12290667.843'}\n",
            "API 호출 성공 - 개인 유형의 상위 5개 데이터 확인:\n",
            "{'YEAR': '2018', 'MON': '02', 'EUS': '243271752', 'GUS': '88496947', 'WUS': '12905042.86', 'HUS': '22671708.494'}\n",
            "API 호출 성공 - 개인 유형의 상위 5개 데이터 확인:\n",
            "{'YEAR': '2018', 'MON': '03', 'EUS': '219203768', 'GUS': '73426397', 'WUS': '12769174.532', 'HUS': '10924939.951'}\n",
            "API 호출 성공 - 개인 유형의 상위 5개 데이터 확인:\n",
            "{'YEAR': '2018', 'MON': '06', 'EUS': '222820943', 'GUS': '17132065', 'WUS': '14051336.092', 'HUS': '285820.628'}\n",
            "API 호출 성공 - 개인 유형의 상위 5개 데이터 확인:\n",
            "{'YEAR': '2018', 'MON': '07', 'EUS': '269705511', 'GUS': '11259835', 'WUS': '14333667.052', 'HUS': '25843523.832'}\n",
            "API 호출 성공 - 개인 유형의 상위 5개 데이터 확인:\n",
            "{'YEAR': '2018', 'MON': '11', 'EUS': '227294230', 'GUS': '31239511', 'WUS': '13706690.088', 'HUS': '10276290.855'}\n",
            "API 호출 성공 - 개인 유형의 상위 5개 데이터 확인:\n",
            "{'YEAR': '2018', 'MON': '12', 'EUS': '238692561', 'GUS': '54019855', 'WUS': '13732488.456', 'HUS': '20421845.603'}\n",
            "API 호출 성공 - 개인 유형의 상위 5개 데이터 확인:\n",
            "{'YEAR': '2019', 'MON': '01', 'EUS': '253600219', 'GUS': '80308239', 'WUS': '13442971.1', 'HUS': '21963093.848'}\n",
            "API 호출 성공 - 개인 유형의 상위 5개 데이터 확인:\n",
            "{'YEAR': '2019', 'MON': '02', 'EUS': '244927344', 'GUS': '81902188', 'WUS': '13495213.9', 'HUS': '106134923.132'}\n",
            "API 호출 성공 - 개인 유형의 상위 5개 데이터 확인:\n",
            "{'YEAR': '2019', 'MON': '03', 'EUS': '223736787', 'GUS': '65146586.443', 'WUS': '13167550', 'HUS': '13194262.09'}\n",
            "API 호출 성공 - 개인 유형의 상위 5개 데이터 확인:\n",
            "{'YEAR': '2019', 'MON': '04', 'EUS': '232166121', 'GUS': '49391508', 'WUS': '13753270.8', 'HUS': '7858587.747'}\n",
            "API 호출 성공 - 개인 유형의 상위 5개 데이터 확인:\n",
            "{'YEAR': '2019', 'MON': '06', 'EUS': '226119779', 'GUS': '15771701', 'WUS': '14223536.4', 'HUS': '331690.945'}\n",
            "API 호출 성공 - 개인 유형의 상위 5개 데이터 확인:\n",
            "{'YEAR': '2019', 'MON': '07', 'EUS': '257854441', 'GUS': '10700835', 'WUS': '14451345.9', 'HUS': '968957.161'}\n",
            "API 호출 성공 - 개인 유형의 상위 5개 데이터 확인:\n",
            "{'YEAR': '2019', 'MON': '10', 'EUS': '228095713', 'GUS': '11876816', 'WUS': '14804362.3', 'HUS': '2590192.143'}\n",
            "API 호출 성공 - 개인 유형의 상위 5개 데이터 확인:\n",
            "{'YEAR': '2019', 'MON': '11', 'EUS': '231283724', 'GUS': '24835894', 'WUS': '14123043.9', 'HUS': '14983364.884'}\n",
            "API 호출 성공 - 개인 유형의 상위 5개 데이터 확인:\n",
            "{'YEAR': '2019', 'MON': '12', 'EUS': '244976724', 'GUS': '54509050', 'WUS': '14184785.2', 'HUS': '23558262.283'}\n",
            "API 호출 성공 - 개인 유형의 상위 5개 데이터 확인:\n",
            "{'YEAR': '2020', 'MON': '02', 'EUS': '254879033', 'GUS': '76363768', 'WUS': '14052828.8', 'HUS': '20848668.612'}\n",
            "API 호출 성공 - 개인 유형의 상위 5개 데이터 확인:\n",
            "{'YEAR': '2020', 'MON': '03', 'EUS': '244369714', 'GUS': '64367515', 'WUS': '13841531', 'HUS': '14194450.151'}\n",
            "API 호출 성공 - 개인 유형의 상위 5개 데이터 확인:\n",
            "{'YEAR': '2020', 'MON': '04', 'EUS': '247831442', 'GUS': '48373693', 'WUS': '14618775.2', 'HUS': '8499792.566'}\n",
            "API 호출 성공 - 개인 유형의 상위 5개 데이터 확인:\n",
            "{'YEAR': '2020', 'MON': '08', 'EUS': '320723239', 'GUS': '10177428', 'WUS': '15600097.8', 'HUS': '286814.663'}\n",
            "API 호출 성공 - 개인 유형의 상위 5개 데이터 확인:\n",
            "{'YEAR': '2020', 'MON': '11', 'EUS': '247308528', 'GUS': '30095679', 'WUS': '14835013.9', 'HUS': '12882737.572'}\n",
            "API 호출 성공 - 개인 유형의 상위 5개 데이터 확인:\n",
            "{'YEAR': '2020', 'MON': '12', 'EUS': '265370372', 'GUS': '51095720', 'WUS': '15036546.3', 'HUS': '26512966.052'}\n",
            "API 호출 성공 - 개인 유형의 상위 5개 데이터 확인:\n",
            "{'YEAR': '2021', 'MON': '01', 'EUS': '287882528', 'GUS': '80955422', 'WUS': '14273105.8', 'HUS': '31069705.783'}\n",
            "API 호출 성공 - 개인 유형의 상위 5개 데이터 확인:\n",
            "{'YEAR': '2021', 'MON': '02', 'EUS': '271224712', 'GUS': '85581769', 'WUS': '13679936.9', 'HUS': '22238103.26'}\n",
            "API 호출 성공 - 개인 유형의 상위 5개 데이터 확인:\n",
            "{'YEAR': '2021', 'MON': '05', 'EUS': '241741576', 'GUS': '24638403', 'WUS': '14312460.916', 'HUS': '2246730.037'}\n",
            "API 호출 성공 - 개인 유형의 상위 5개 데이터 확인:\n",
            "{'YEAR': '2021', 'MON': '06', 'EUS': '254958704', 'GUS': '18898880', 'WUS': '15174790.6', 'HUS': '396903.273'}\n",
            "API 호출 성공 - 개인 유형의 상위 5개 데이터 확인:\n",
            "{'YEAR': '2021', 'MON': '07', 'EUS': '334733756', 'GUS': '9631171', 'WUS': '16619105.064', 'HUS': '5529269.058'}\n",
            "API 호출 성공 - 개인 유형의 상위 5개 데이터 확인:\n",
            "{'YEAR': '2021', 'MON': '08', 'EUS': '409719040', 'GUS': '10205066', 'WUS': '15737994.8', 'HUS': '127607.838'}\n",
            "API 호출 성공 - 개인 유형의 상위 5개 데이터 확인:\n",
            "{'YEAR': '2021', 'MON': '09', 'EUS': '290606638', 'GUS': '6602872', 'WUS': '15497783.9', 'HUS': '159066.058'}\n",
            "API 호출 성공 - 개인 유형의 상위 5개 데이터 확인:\n",
            "{'YEAR': '2021', 'MON': '10', 'EUS': '253845816', 'GUS': '13840155', 'WUS': '15930639.8', 'HUS': '4220985.501'}\n",
            "API 호출 성공 - 개인 유형의 상위 5개 데이터 확인:\n",
            "{'YEAR': '2021', 'MON': '11', 'EUS': '255516339', 'GUS': '28571168', 'WUS': '14975050.4', 'HUS': '13463697.643'}\n",
            "API 호출 성공 - 개인 유형의 상위 5개 데이터 확인:\n",
            "{'YEAR': '2021', 'MON': '12', 'EUS': '265314948', 'GUS': '54651317', 'WUS': '14873728.5', 'HUS': '25989752.285'}\n",
            "API 호출 성공 - 개인 유형의 상위 5개 데이터 확인:\n",
            "{'YEAR': '2022', 'MON': '03', 'EUS': '256771728', 'GUS': '75577723', 'WUS': '14181287.1', 'HUS': '15843818.715'}\n",
            "API 호출 성공 - 개인 유형의 상위 5개 데이터 확인:\n",
            "{'YEAR': '2022', 'MON': '05', 'EUS': '238866649', 'GUS': '28185559', 'WUS': '14344240.1', 'HUS': '1457446.39'}\n",
            "API 호출 성공 - 개인 유형의 상위 5개 데이터 확인:\n",
            "{'YEAR': '2022', 'MON': '06', 'EUS': '254486733', 'GUS': '15468022', 'WUS': '15087457.3', 'HUS': '838539.99'}\n",
            "API 호출 성공 - 개인 유형의 상위 5개 데이터 확인:\n",
            "{'YEAR': '2022', 'MON': '07', 'EUS': '336383318', 'GUS': '10701998', 'WUS': '14907198', 'HUS': '50033.827'}\n",
            "API 호출 성공 - 개인 유형의 상위 5개 데이터 확인:\n",
            "{'YEAR': '2022', 'MON': '08', 'EUS': '382965547', 'GUS': '8718677', 'WUS': '15555926.8', 'HUS': '3278812.728'}\n",
            "API 호출 성공 - 개인 유형의 상위 5개 데이터 확인:\n",
            "{'YEAR': '2022', 'MON': '09', 'EUS': '294121752', 'GUS': '9220604.8', 'WUS': '15016541.4', 'HUS': '7221052.414'}\n",
            "API 호출 성공 - 개인 유형의 상위 5개 데이터 확인:\n",
            "{'YEAR': '2022', 'MON': '11', 'EUS': '252081207', 'GUS': '28471902', 'WUS': '14485236.6', 'HUS': '10685943.786'}\n",
            "API 호출 성공 - 개인 유형의 상위 5개 데이터 확인:\n",
            "{'YEAR': '2022', 'MON': '12', 'EUS': '266989892', 'GUS': '52230601', 'WUS': '14538742.5', 'HUS': '31655489.658'}\n",
            "API 호출 성공 - 개인 유형의 상위 5개 데이터 확인:\n",
            "{'YEAR': '2023', 'MON': '04', 'EUS': '247142965', 'GUS': '38484227', 'WUS': '13951884.7', 'HUS': '4292056.162'}\n",
            "API 호출 성공 - 개인 유형의 상위 5개 데이터 확인:\n",
            "{'YEAR': '2023', 'MON': '06', 'EUS': '259143276', 'GUS': '14742811', 'WUS': '14822130.1', 'HUS': '1169879.028'}\n",
            "API 호출 성공 - 개인 유형의 상위 5개 데이터 확인:\n",
            "{'YEAR': '2023', 'MON': '08', 'EUS': '407479395', 'GUS': '8486915', 'WUS': '15402396.8', 'HUS': '530124.99'}\n",
            "API 호출 성공 - 개인 유형의 상위 5개 데이터 확인:\n",
            "{'YEAR': '2023', 'MON': '09', 'EUS': '332452167', 'GUS': '7674573', 'WUS': '14941654.4', 'HUS': '19457189.828'}\n",
            "API 호출 성공 - 개인 유형의 상위 5개 데이터 확인:\n",
            "{'YEAR': '2023', 'MON': '10', 'EUS': '255560826', 'GUS': '11273798', 'WUS': '14918622.9', 'HUS': '3049594.261'}\n",
            "API 호출 성공 - 개인 유형의 상위 5개 데이터 확인:\n",
            "{'YEAR': '2023', 'MON': '11', 'EUS': '255362764', 'GUS': '23749738', 'WUS': '14439208.8', 'HUS': '13225464.736'}\n",
            "API 호출 성공 - 개인 유형의 상위 5개 데이터 확인:\n",
            "{'YEAR': '2023', 'MON': '12', 'EUS': '271015225', 'GUS': '47560201', 'WUS': '14519931.6', 'HUS': '24169250.596'}\n",
            "API 호출 성공 - 개인 유형의 상위 5개 데이터 확인:\n",
            "{'YEAR': '2024', 'MON': '01', 'EUS': '290223476', 'GUS': '65608930', 'WUS': '14119336.8', 'HUS': '26759601.094'}\n",
            "API 호출 성공 - 개인 유형의 상위 5개 데이터 확인:\n",
            "{'YEAR': '2024', 'MON': '02', 'EUS': '280810330', 'GUS': '65184440', 'WUS': '14247296.7', 'HUS': '18696968.203'}\n",
            "API 호출 성공 - 개인 유형의 상위 5개 데이터 확인:\n",
            "{'YEAR': '2024', 'MON': '03', 'EUS': '259332255', 'GUS': '58563376', 'WUS': '13792441.8', 'HUS': '13455710.256'}\n",
            "API 호출 성공 - 개인 유형의 상위 5개 데이터 확인:\n",
            "{'YEAR': '2024', 'MON': '04', 'EUS': '256332884', 'GUS': '35786315', 'WUS': '14330249.1', 'HUS': '3099650.225'}\n",
            "API 호출 성공 - 개인 유형의 상위 5개 데이터 확인:\n",
            "{'YEAR': '2024', 'MON': '05', 'EUS': '244740675', 'GUS': '18077028', 'WUS': '14158142.9', 'HUS': '28333197.76'}\n",
            "API 호출 성공 - 개인 유형의 상위 5개 데이터 확인:\n",
            "{'YEAR': '2024', 'MON': '06', 'EUS': '270158916', 'GUS': '11903071', 'WUS': '14966075.6', 'HUS': '20226852.923'}\n",
            "API 호출 성공 - 개인 유형의 상위 5개 데이터 확인:\n",
            "{'YEAR': '2024', 'MON': '07', 'EUS': '340000663', 'GUS': '8319412', 'WUS': '14992942.2', 'HUS': '2173041.617'}\n",
            "API 호출 성공 - 개인 유형의 상위 5개 데이터 확인:\n",
            "{'YEAR': '2024', 'MON': '08', 'EUS': '463971328', 'GUS': '7072251', 'WUS': '15873544.6', 'HUS': '130082.263'}\n",
            "API 호출 성공 - 개인 유형의 상위 5개 데이터 확인:\n",
            "{'YEAR': '2024', 'MON': '09', 'EUS': '409872908', 'GUS': '5729131', 'WUS': '15143321.6', 'HUS': '3420507.136'}\n",
            "API 호출 성공 - 개인 유형의 상위 5개 데이터 확인:\n",
            "{'YEAR': '2024', 'MON': '10', 'EUS': '282268119', 'GUS': '8233421', 'WUS': '15297669.9', 'HUS': '2695491.396'}\n",
            "API 호출 성공 - 개인 유형의 상위 5개 데이터 확인:\n",
            "{'YEAR': '2024', 'MON': '11', 'EUS': '257927956', 'GUS': '17418221', 'WUS': '14678672.5', 'HUS': '8836296.454'}\n",
            "API 호출 성공 - 개인 유형의 상위 5개 데이터 확인:\n",
            "{'YEAR': '2024', 'MON': '12', 'EUS': '134828126', 'GUS': '42103424', 'WUS': '7326853.6', 'HUS': '1513199.277'}\n"
          ]
        },
        {
          "output_type": "error",
          "ename": "KeyError",
          "evalue": "'MON'",
          "traceback": [
            "\u001b[0;31m---------------------------------------------------------------------------\u001b[0m",
            "\u001b[0;31mKeyError\u001b[0m                                  Traceback (most recent call last)",
            "\u001b[0;32m/tmp/ipython-input-413719220.py\u001b[0m in \u001b[0;36m<cell line: 0>\u001b[0;34m()\u001b[0m\n\u001b[1;32m     41\u001b[0m \u001b[0mdf\u001b[0m \u001b[0;34m=\u001b[0m \u001b[0mpd\u001b[0m\u001b[0;34m.\u001b[0m\u001b[0mDataFrame\u001b[0m\u001b[0;34m(\u001b[0m\u001b[0mtable\u001b[0m\u001b[0;34m)\u001b[0m\u001b[0;34m\u001b[0m\u001b[0;34m\u001b[0m\u001b[0m\n\u001b[1;32m     42\u001b[0m \u001b[0;34m\u001b[0m\u001b[0m\n\u001b[0;32m---> 43\u001b[0;31m \u001b[0mdf\u001b[0m\u001b[0;34m[\u001b[0m\u001b[0;34m'MON'\u001b[0m\u001b[0;34m]\u001b[0m \u001b[0;34m=\u001b[0m \u001b[0mdf\u001b[0m\u001b[0;34m[\u001b[0m\u001b[0;34m'MON'\u001b[0m\u001b[0;34m]\u001b[0m\u001b[0;34m.\u001b[0m\u001b[0mastype\u001b[0m\u001b[0;34m(\u001b[0m\u001b[0mint\u001b[0m\u001b[0;34m)\u001b[0m\u001b[0;34m\u001b[0m\u001b[0;34m\u001b[0m\u001b[0m\n\u001b[0m\u001b[1;32m     44\u001b[0m \u001b[0mdf\u001b[0m\u001b[0;34m.\u001b[0m\u001b[0mloc\u001b[0m\u001b[0;34m[\u001b[0m\u001b[0;34m(\u001b[0m\u001b[0mdf\u001b[0m\u001b[0;34m[\u001b[0m\u001b[0;34m'MON'\u001b[0m\u001b[0;34m]\u001b[0m \u001b[0;34m>=\u001b[0m \u001b[0;36m3\u001b[0m\u001b[0;34m)\u001b[0m \u001b[0;34m&\u001b[0m \u001b[0;34m(\u001b[0m\u001b[0mdf\u001b[0m\u001b[0;34m[\u001b[0m\u001b[0;34m'MON'\u001b[0m\u001b[0;34m]\u001b[0m \u001b[0;34m<=\u001b[0m \u001b[0;36m5\u001b[0m\u001b[0;34m)\u001b[0m\u001b[0;34m,\u001b[0m \u001b[0;34m'season'\u001b[0m\u001b[0;34m]\u001b[0m \u001b[0;34m=\u001b[0m \u001b[0;34m'봄'\u001b[0m\u001b[0;34m\u001b[0m\u001b[0;34m\u001b[0m\u001b[0m\n\u001b[1;32m     45\u001b[0m \u001b[0mdf\u001b[0m\u001b[0;34m.\u001b[0m\u001b[0mloc\u001b[0m\u001b[0;34m[\u001b[0m\u001b[0;34m(\u001b[0m\u001b[0mdf\u001b[0m\u001b[0;34m[\u001b[0m\u001b[0;34m'MON'\u001b[0m\u001b[0;34m]\u001b[0m \u001b[0;34m>=\u001b[0m \u001b[0;36m6\u001b[0m\u001b[0;34m)\u001b[0m \u001b[0;34m&\u001b[0m \u001b[0;34m(\u001b[0m\u001b[0mdf\u001b[0m\u001b[0;34m[\u001b[0m\u001b[0;34m'MON'\u001b[0m\u001b[0;34m]\u001b[0m \u001b[0;34m<=\u001b[0m \u001b[0;36m8\u001b[0m\u001b[0;34m)\u001b[0m\u001b[0;34m,\u001b[0m \u001b[0;34m'season'\u001b[0m\u001b[0;34m]\u001b[0m \u001b[0;34m=\u001b[0m \u001b[0;34m'여름'\u001b[0m\u001b[0;34m\u001b[0m\u001b[0;34m\u001b[0m\u001b[0m\n",
            "\u001b[0;32m/usr/local/lib/python3.12/dist-packages/pandas/core/frame.py\u001b[0m in \u001b[0;36m__getitem__\u001b[0;34m(self, key)\u001b[0m\n\u001b[1;32m   4100\u001b[0m             \u001b[0;32mif\u001b[0m \u001b[0mself\u001b[0m\u001b[0;34m.\u001b[0m\u001b[0mcolumns\u001b[0m\u001b[0;34m.\u001b[0m\u001b[0mnlevels\u001b[0m \u001b[0;34m>\u001b[0m \u001b[0;36m1\u001b[0m\u001b[0;34m:\u001b[0m\u001b[0;34m\u001b[0m\u001b[0;34m\u001b[0m\u001b[0m\n\u001b[1;32m   4101\u001b[0m                 \u001b[0;32mreturn\u001b[0m \u001b[0mself\u001b[0m\u001b[0;34m.\u001b[0m\u001b[0m_getitem_multilevel\u001b[0m\u001b[0;34m(\u001b[0m\u001b[0mkey\u001b[0m\u001b[0;34m)\u001b[0m\u001b[0;34m\u001b[0m\u001b[0;34m\u001b[0m\u001b[0m\n\u001b[0;32m-> 4102\u001b[0;31m             \u001b[0mindexer\u001b[0m \u001b[0;34m=\u001b[0m \u001b[0mself\u001b[0m\u001b[0;34m.\u001b[0m\u001b[0mcolumns\u001b[0m\u001b[0;34m.\u001b[0m\u001b[0mget_loc\u001b[0m\u001b[0;34m(\u001b[0m\u001b[0mkey\u001b[0m\u001b[0;34m)\u001b[0m\u001b[0;34m\u001b[0m\u001b[0;34m\u001b[0m\u001b[0m\n\u001b[0m\u001b[1;32m   4103\u001b[0m             \u001b[0;32mif\u001b[0m \u001b[0mis_integer\u001b[0m\u001b[0;34m(\u001b[0m\u001b[0mindexer\u001b[0m\u001b[0;34m)\u001b[0m\u001b[0;34m:\u001b[0m\u001b[0;34m\u001b[0m\u001b[0;34m\u001b[0m\u001b[0m\n\u001b[1;32m   4104\u001b[0m                 \u001b[0mindexer\u001b[0m \u001b[0;34m=\u001b[0m \u001b[0;34m[\u001b[0m\u001b[0mindexer\u001b[0m\u001b[0;34m]\u001b[0m\u001b[0;34m\u001b[0m\u001b[0;34m\u001b[0m\u001b[0m\n",
            "\u001b[0;32m/usr/local/lib/python3.12/dist-packages/pandas/core/indexes/range.py\u001b[0m in \u001b[0;36mget_loc\u001b[0;34m(self, key)\u001b[0m\n\u001b[1;32m    415\u001b[0m                 \u001b[0;32mraise\u001b[0m \u001b[0mKeyError\u001b[0m\u001b[0;34m(\u001b[0m\u001b[0mkey\u001b[0m\u001b[0;34m)\u001b[0m \u001b[0;32mfrom\u001b[0m \u001b[0merr\u001b[0m\u001b[0;34m\u001b[0m\u001b[0;34m\u001b[0m\u001b[0m\n\u001b[1;32m    416\u001b[0m         \u001b[0;32mif\u001b[0m \u001b[0misinstance\u001b[0m\u001b[0;34m(\u001b[0m\u001b[0mkey\u001b[0m\u001b[0;34m,\u001b[0m \u001b[0mHashable\u001b[0m\u001b[0;34m)\u001b[0m\u001b[0;34m:\u001b[0m\u001b[0;34m\u001b[0m\u001b[0;34m\u001b[0m\u001b[0m\n\u001b[0;32m--> 417\u001b[0;31m             \u001b[0;32mraise\u001b[0m \u001b[0mKeyError\u001b[0m\u001b[0;34m(\u001b[0m\u001b[0mkey\u001b[0m\u001b[0;34m)\u001b[0m\u001b[0;34m\u001b[0m\u001b[0;34m\u001b[0m\u001b[0m\n\u001b[0m\u001b[1;32m    418\u001b[0m         \u001b[0mself\u001b[0m\u001b[0;34m.\u001b[0m\u001b[0m_check_indexing_error\u001b[0m\u001b[0;34m(\u001b[0m\u001b[0mkey\u001b[0m\u001b[0;34m)\u001b[0m\u001b[0;34m\u001b[0m\u001b[0;34m\u001b[0m\u001b[0m\n\u001b[1;32m    419\u001b[0m         \u001b[0;32mraise\u001b[0m \u001b[0mKeyError\u001b[0m\u001b[0;34m(\u001b[0m\u001b[0mkey\u001b[0m\u001b[0;34m)\u001b[0m\u001b[0;34m\u001b[0m\u001b[0;34m\u001b[0m\u001b[0m\n",
            "\u001b[0;31mKeyError\u001b[0m: 'MON'"
          ]
        }
      ]
    },
    {
      "cell_type": "code",
      "source": [
        "import requests\n",
        "import json\n",
        "import pandas as pd\n",
        "# 기본 URL (본인 인증키 그대로 사용)\n",
        "url = \"http://openapi.seoul.go.kr:8088/74537255746a793032307774485476/json/energyUseDataSummaryInfo/1/5/{}/{}\"\n",
        "\n",
        "table = []\n",
        "\n",
        "for year in range(2015, 2025):\n",
        "    for month in range(1, 13):\n",
        "        new_month = f\"{month:02d}\"\n",
        "        request_url = url.format(year, new_month)\n",
        "\n",
        "        response = requests.get(request_url)\n",
        "        if response.status_code == 200:\n",
        "            try:\n",
        "                data = response.json()\n",
        "            except json.JSONDecodeError:\n",
        "                continue\n",
        "\n",
        "            # 데이터가 존재하는지 확인\n",
        "            if \"energyUseDataSummaryInfo\" in data and \"row\" in data[\"energyUseDataSummaryInfo\"]:\n",
        "                rows = data[\"energyUseDataSummaryInfo\"][\"row\"]\n",
        "\n",
        "                # 데이터 수집: 개인 유형만 필터링하여 table에 추가\n",
        "                for r in rows:\n",
        "                    if r[\"MM_TYPE\"] == \"개인\":\n",
        "                        record = {\n",
        "                            \"YEAR\": r[\"YEAR\"],\n",
        "                            \"MON\": r[\"MON\"],\n",
        "                            \"EUS\": r[\"EUS\"],   # 전기\n",
        "                            \"GUS\": r[\"GUS\"],   # 가스\n",
        "                            \"WUS\": r[\"WUS\"],   # 수도\n",
        "                            \"HUS\": r[\"HUS\"]    # 지역난방\n",
        "                        }\n",
        "                        table.append(record)\n",
        "\n",
        "\n",
        "df = pd.DataFrame(table)\n",
        "print(df.info())\n",
        "\n",
        "\n",
        "df[\"MON\"] = df[\"MON\"].astype(int)\n",
        "df.loc[(df['MON'] >= 3) & (df['MON'] <= 5), 'season'] = 'Spring'\n",
        "df.loc[(df['MON'] >= 6) & (df['MON'] <= 8), 'season'] = 'Summer'\n",
        "df.loc[(df['MON'] >= 9) & (df['MON'] <= 11), 'season'] = 'Fall'\n",
        "df.loc[(df['MON'] == 12) | (df['MON'] <= 2), 'season'] = 'Winter'\n",
        "\n",
        "print(df)\n"
      ],
      "metadata": {
        "colab": {
          "base_uri": "https://localhost:8080/"
        },
        "id": "jJHxhizgXBy8",
        "outputId": "ae4e8fa1-ae96-4b75-f894-134765ff03ec"
      },
      "execution_count": 23,
      "outputs": [
        {
          "output_type": "stream",
          "name": "stdout",
          "text": [
            "<class 'pandas.core.frame.DataFrame'>\n",
            "RangeIndex: 83 entries, 0 to 82\n",
            "Data columns (total 6 columns):\n",
            " #   Column  Non-Null Count  Dtype \n",
            "---  ------  --------------  ----- \n",
            " 0   YEAR    83 non-null     object\n",
            " 1   MON     83 non-null     object\n",
            " 2   EUS     83 non-null     object\n",
            " 3   GUS     83 non-null     object\n",
            " 4   WUS     83 non-null     object\n",
            " 5   HUS     83 non-null     object\n",
            "dtypes: object(6)\n",
            "memory usage: 4.0+ KB\n",
            "None\n",
            "    YEAR  MON        EUS       GUS           WUS           HUS  season\n",
            "0   2015    1  193784708  59133720  12819757.886  22740838.937  Winter\n",
            "1   2015    2  189974230  56487358  12656888.218  18793320.213  Winter\n",
            "2   2015    5  177289769  22060892  13086734.214   1320895.801  Spring\n",
            "3   2015    6  186073153  12677645  14241651.402    294312.634  Summer\n",
            "4   2015    7  165114568   8893640  12083879.038    702863.645  Summer\n",
            "..   ...  ...        ...       ...           ...           ...     ...\n",
            "78  2024    8  463971328   7072251    15873544.6    130082.263  Summer\n",
            "79  2024    9  409872908   5729131    15143321.6   3420507.136    Fall\n",
            "80  2024   10  282268119   8233421    15297669.9   2695491.396    Fall\n",
            "81  2024   11  257927956  17418221    14678672.5   8836296.454    Fall\n",
            "82  2024   12  134828126  42103424     7326853.6   1513199.277  Winter\n",
            "\n",
            "[83 rows x 7 columns]\n"
          ]
        }
      ]
    },
    {
      "cell_type": "markdown",
      "source": [
        "\n",
        "\n",
        "# 오픈소스 기반 데이터 분석 4강 - 데이터 수집\n"
      ],
      "metadata": {
        "id": "DkPKaAsoRq5Q"
      }
    },
    {
      "cell_type": "markdown",
      "source": [
        "## 4-1 CSV 파일 읽기"
      ],
      "metadata": {
        "id": "-I7BVVlnRrB0"
      }
    },
    {
      "cell_type": "code",
      "source": [
        "import pandas as pd\n",
        "\n",
        "##chpater 3 폴더 다운받고 압축 풀고 올리기.\n",
        "## data.csv 파일 읽기\n",
        "df = pd.read_csv('data.csv')\n",
        "print(df)\n",
        "\n",
        "df1 = pd.read_csv('data.csv', encoding =\"utf-8\",sep=',',\n",
        "                  header=0, index_col=None, skiprows = None, nrows=None)\n",
        "print(df1)"
      ],
      "metadata": {
        "id": "2Y2HEiaiRwAI",
        "outputId": "039640ca-158d-4375-ba61-128a98181f42",
        "colab": {
          "base_uri": "https://localhost:8080/"
        }
      },
      "execution_count": null,
      "outputs": [
        {
          "output_type": "stream",
          "name": "stdout",
          "text": [
            "           날짜    체중  골격근량  체지방량\n",
            "0  2025.02.06  64.7  30.0  11.1\n",
            "1  2025.02.04  64.0  29.3  11.6\n",
            "           날짜    체중  골격근량  체지방량\n",
            "0  2025.02.06  64.7  30.0  11.1\n",
            "1  2025.02.04  64.0  29.3  11.6\n"
          ]
        }
      ]
    },
    {
      "cell_type": "markdown",
      "source": [
        "## 4-2 JSON 파일 읽기\n",
        "\n"
      ],
      "metadata": {
        "id": "9kHCFaGlRrE0"
      }
    },
    {
      "cell_type": "code",
      "source": [
        "import json\n",
        "import pandas as pd\n",
        "\n",
        "## data.json 파일 dataframe 읽기\n",
        "df = pd.read_json('data.json')\n",
        "print(df,'\\n')\n",
        "\n",
        "df2 = pd.read_json('data.json', orient='records', encoding = 'utf-8',\n",
        "                  lines=False)\n",
        "print(df2, '\\n')\n",
        "## data.json 파일 출력\n",
        "with open('data.json', mode='r') as f:\n",
        "    df1 = json.load(f)\n",
        "print(df1, '\\n')\n",
        "\n",
        "with open('data.json', mode='r', encoding = 'utf-8') as f:\n",
        "    data=json.load(f)\n",
        "print(data)"
      ],
      "metadata": {
        "id": "IO8bsKekR0W_",
        "outputId": "d5635e57-176e-471f-d38d-34c02a0d9926",
        "colab": {
          "base_uri": "https://localhost:8080/"
        }
      },
      "execution_count": null,
      "outputs": [
        {
          "output_type": "stream",
          "name": "stdout",
          "text": [
            "                                               매출데이터\n",
            "0  {'월': '2025-01', '매출액': 1000000, '비용': 700000,...\n",
            "1  {'월': '2025-02', '매출액': 1200000, '비용': 800000,...\n",
            "2  {'월': '2025-03', '매출액': 1500000, '비용': 900000,... \n",
            "\n",
            "                                               매출데이터\n",
            "0  {'월': '2025-01', '매출액': 1000000, '비용': 700000,...\n",
            "1  {'월': '2025-02', '매출액': 1200000, '비용': 800000,...\n",
            "2  {'월': '2025-03', '매출액': 1500000, '비용': 900000,... \n",
            "\n",
            "{'매출데이터': [{'월': '2025-01', '매출액': 1000000, '비용': 700000, '이익': 300000}, {'월': '2025-02', '매출액': 1200000, '비용': 800000, '이익': 400000}, {'월': '2025-03', '매출액': 1500000, '비용': 900000, '이익': 600000}]} \n",
            "\n",
            "{'매출데이터': [{'월': '2025-01', '매출액': 1000000, '비용': 700000, '이익': 300000}, {'월': '2025-02', '매출액': 1200000, '비용': 800000, '이익': 400000}, {'월': '2025-03', '매출액': 1500000, '비용': 900000, '이익': 600000}]}\n"
          ]
        }
      ]
    },
    {
      "cell_type": "markdown",
      "source": [
        "## 4-3 텍스트 파일 읽기 및 데이터 추출"
      ],
      "metadata": {
        "id": "uLd_3A_IRrHG"
      }
    },
    {
      "cell_type": "code",
      "source": [
        "## regular library 불러오\n",
        "import re\n",
        "\n",
        "## 파일(callcenter20250301.log) 오픈 및 읽기\n",
        "with open('callcenter20250301.log', 'r', encoding='utf-8') as f:\n",
        "    content = f.read()\n",
        "## 주민등록번호 패턴 생성, 앞에 6자리를 그룹1로, 뒤 7자리를 그룹2로.\n",
        "pattern = re.compile(r'(\\d{6})-(\\d{7})')\n",
        "## 주민등록번호 마스킹. substitution.\n",
        "masked_content = pattern.sub(r'\\1-*******',content)\n",
        "## 마스킹된 파일(callcenter20250301_masked.log) 오픈 및 쓰기\n",
        "with open('callcenter20250301_masked.log', mode = 'w') as f:\n",
        "    f.write(masked_content)\n",
        "\n",
        "print(\"주민등록번호 마스킹 완료. 'callcenter20250301_masked.log.txt' 파일로 저장되었습니다.\")"
      ],
      "metadata": {
        "id": "60qOf7uxVdAg",
        "outputId": "fa5747ce-820b-4d5c-e014-f6080a301310",
        "colab": {
          "base_uri": "https://localhost:8080/"
        }
      },
      "execution_count": null,
      "outputs": [
        {
          "output_type": "stream",
          "name": "stdout",
          "text": [
            "주민등록번호 마스킹 완료. 'callcenter20250301_masked.log.txt' 파일로 저장되었습니다.\n"
          ]
        }
      ]
    },
    {
      "cell_type": "markdown",
      "source": [
        "## 4-4 Open-Meteo의 무료 날씨 API를 통한 특정 지역 온도 조회"
      ],
      "metadata": {
        "id": "eOMufu5SXiAU"
      }
    },
    {
      "cell_type": "code",
      "source": [
        "import requests\n",
        "import json\n",
        "\n",
        "url = \"https://api.open-meteo.com/v1/forecast?=&=&current=temperature_2m\"\n",
        "params = {\n",
        "    \"latitude\": \"37.58638333\",\n",
        "    \"longitude\": \"127.0203333\",\n",
        "    \"current\": \"temperature_2m\"\n",
        "}\n",
        "\n",
        "try:\n",
        "    ## URL 및 파라미터 전송\n",
        "    response = requests.get(url, params=params)\n",
        "    ##에러고치기\n",
        "    response.raise_for_status()\n",
        "\n",
        "    ## JSON 데이터 읽기\n",
        "    data = response.json()\n",
        "    print(\"API 응답:\", data)\n",
        "    print(\"서울시 종로구의 현재 온도는 : {0}{1} 입니다.\".format(data['current']\n",
        "     ['temperature_2m'], data['current_units']['temperature_2m']))\n",
        "    fstring = f'서울시 종로구의 현재 온도는 : {data['current']['temperature_2m']} {data['current_units']['temperature_2m']} 입니다.'\n",
        "    print(fstring)\n",
        "except requests.exceptions.RequestException as e:\n",
        "    print(f\"API 호출 실패: {e}\")\n",
        "except json.JSONDecodeError as e:\n",
        "    print(f\"JSON 파싱 실패: {e}\")"
      ],
      "metadata": {
        "id": "JpmgdsW9V0CY",
        "outputId": "f45900b3-2d8e-4c13-e39d-e5703595647e",
        "colab": {
          "base_uri": "https://localhost:8080/"
        }
      },
      "execution_count": null,
      "outputs": [
        {
          "output_type": "stream",
          "name": "stdout",
          "text": [
            "API 응답: {'latitude': 37.6, 'longitude': 127.0, 'generationtime_ms': 0.026345252990722656, 'utc_offset_seconds': 0, 'timezone': 'GMT', 'timezone_abbreviation': 'GMT', 'elevation': 29.0, 'current_units': {'time': 'iso8601', 'interval': 'seconds', 'temperature_2m': '°C'}, 'current': {'time': '2025-10-01T04:00', 'interval': 900, 'temperature_2m': 23.6}}\n",
            "서울시 종로구의 현재 온도는 : 23.6°C 입니다.\n",
            "서울시 종로구의 현재 온도는 : 23.6 °C 입니다.\n"
          ]
        }
      ]
    },
    {
      "cell_type": "markdown",
      "source": [
        "## 4-5 Selenium과 lxml을 이용한 웹 스크래핑"
      ],
      "metadata": {
        "id": "RLfPaa1ZiqIC"
      }
    },
    {
      "cell_type": "code",
      "source": [
        "!curl -o google-chrome-stable_current_amd64.deb https://dl.google.com/linux/direct/google-chrome-stable_current_amd64.deb\n",
        "!apt install ./google-chrome-stable_current_amd64.deb -y\n",
        "!pip install selenium webdriver_manager"
      ],
      "metadata": {
        "id": "79dmM7MNk8pB",
        "outputId": "2b763c27-bbe2-497c-f0d4-d4e1edcfcb94",
        "colab": {
          "base_uri": "https://localhost:8080/"
        }
      },
      "execution_count": null,
      "outputs": [
        {
          "output_type": "stream",
          "name": "stdout",
          "text": [
            "  % Total    % Received % Xferd  Average Speed   Time    Time     Time  Current\n",
            "                                 Dload  Upload   Total   Spent    Left  Speed\n",
            "100  114M  100  114M    0     0   263M      0 --:--:-- --:--:-- --:--:--  263M\n",
            "Reading package lists... Done\n",
            "Building dependency tree... Done\n",
            "Reading state information... Done\n",
            "Note, selecting 'google-chrome-stable' instead of './google-chrome-stable_current_amd64.deb'\n",
            "The following additional packages will be installed:\n",
            "  libvulkan1 mesa-vulkan-drivers\n",
            "The following NEW packages will be installed:\n",
            "  google-chrome-stable libvulkan1 mesa-vulkan-drivers\n",
            "0 upgraded, 3 newly installed, 0 to remove and 38 not upgraded.\n",
            "Need to get 10.9 MB/131 MB of archives.\n",
            "After this operation, 448 MB of additional disk space will be used.\n",
            "Get:1 http://archive.ubuntu.com/ubuntu jammy/main amd64 libvulkan1 amd64 1.3.204.1-2 [128 kB]\n",
            "Get:2 /content/google-chrome-stable_current_amd64.deb google-chrome-stable amd64 141.0.7390.54-1 [121 MB]\n",
            "Get:3 http://archive.ubuntu.com/ubuntu jammy-updates/main amd64 mesa-vulkan-drivers amd64 23.2.1-1ubuntu3.1~22.04.3 [10.7 MB]\n",
            "Fetched 10.9 MB in 2s (5,748 kB/s)\n",
            "Selecting previously unselected package libvulkan1:amd64.\n",
            "(Reading database ... 126666 files and directories currently installed.)\n",
            "Preparing to unpack .../libvulkan1_1.3.204.1-2_amd64.deb ...\n",
            "Unpacking libvulkan1:amd64 (1.3.204.1-2) ...\n",
            "Selecting previously unselected package google-chrome-stable.\n",
            "Preparing to unpack .../google-chrome-stable_current_amd64.deb ...\n",
            "Unpacking google-chrome-stable (141.0.7390.54-1) ...\n",
            "Selecting previously unselected package mesa-vulkan-drivers:amd64.\n",
            "Preparing to unpack .../mesa-vulkan-drivers_23.2.1-1ubuntu3.1~22.04.3_amd64.deb ...\n",
            "Unpacking mesa-vulkan-drivers:amd64 (23.2.1-1ubuntu3.1~22.04.3) ...\n",
            "Setting up libvulkan1:amd64 (1.3.204.1-2) ...\n",
            "Setting up mesa-vulkan-drivers:amd64 (23.2.1-1ubuntu3.1~22.04.3) ...\n",
            "Setting up google-chrome-stable (141.0.7390.54-1) ...\n",
            "update-alternatives: using /usr/bin/google-chrome-stable to provide /usr/bin/x-www-browser (x-www-browser) in auto mode\n",
            "update-alternatives: using /usr/bin/google-chrome-stable to provide /usr/bin/gnome-www-browser (gnome-www-browser) in auto mode\n",
            "update-alternatives: using /usr/bin/google-chrome-stable to provide /usr/bin/google-chrome (google-chrome) in auto mode\n",
            "Processing triggers for man-db (2.10.2-1) ...\n",
            "Processing triggers for mailcap (3.70+nmu1ubuntu1) ...\n",
            "Processing triggers for libc-bin (2.35-0ubuntu3.8) ...\n",
            "/sbin/ldconfig.real: /usr/local/lib/libtbbbind_2_5.so.3 is not a symbolic link\n",
            "\n",
            "/sbin/ldconfig.real: /usr/local/lib/libtbbmalloc_proxy.so.2 is not a symbolic link\n",
            "\n",
            "/sbin/ldconfig.real: /usr/local/lib/libur_adapter_level_zero_v2.so.0 is not a symbolic link\n",
            "\n",
            "/sbin/ldconfig.real: /usr/local/lib/libur_loader.so.0 is not a symbolic link\n",
            "\n",
            "/sbin/ldconfig.real: /usr/local/lib/libtbb.so.12 is not a symbolic link\n",
            "\n",
            "/sbin/ldconfig.real: /usr/local/lib/libtbbbind.so.3 is not a symbolic link\n",
            "\n",
            "/sbin/ldconfig.real: /usr/local/lib/libur_adapter_level_zero.so.0 is not a symbolic link\n",
            "\n",
            "/sbin/ldconfig.real: /usr/local/lib/libtbbbind_2_0.so.3 is not a symbolic link\n",
            "\n",
            "/sbin/ldconfig.real: /usr/local/lib/libur_adapter_opencl.so.0 is not a symbolic link\n",
            "\n",
            "/sbin/ldconfig.real: /usr/local/lib/libhwloc.so.15 is not a symbolic link\n",
            "\n",
            "/sbin/ldconfig.real: /usr/local/lib/libumf.so.0 is not a symbolic link\n",
            "\n",
            "/sbin/ldconfig.real: /usr/local/lib/libtcm_debug.so.1 is not a symbolic link\n",
            "\n",
            "/sbin/ldconfig.real: /usr/local/lib/libtcm.so.1 is not a symbolic link\n",
            "\n",
            "/sbin/ldconfig.real: /usr/local/lib/libtbbmalloc.so.2 is not a symbolic link\n",
            "\n",
            "Collecting selenium\n",
            "  Downloading selenium-4.35.0-py3-none-any.whl.metadata (7.4 kB)\n",
            "Collecting webdriver_manager\n",
            "  Downloading webdriver_manager-4.0.2-py2.py3-none-any.whl.metadata (12 kB)\n",
            "Requirement already satisfied: urllib3<3.0,>=2.5.0 in /usr/local/lib/python3.12/dist-packages (from urllib3[socks]<3.0,>=2.5.0->selenium) (2.5.0)\n",
            "Collecting trio~=0.30.0 (from selenium)\n",
            "  Downloading trio-0.30.0-py3-none-any.whl.metadata (8.5 kB)\n",
            "Collecting trio-websocket~=0.12.2 (from selenium)\n",
            "  Downloading trio_websocket-0.12.2-py3-none-any.whl.metadata (5.1 kB)\n",
            "Requirement already satisfied: certifi>=2025.6.15 in /usr/local/lib/python3.12/dist-packages (from selenium) (2025.8.3)\n",
            "Collecting typing_extensions~=4.14.0 (from selenium)\n",
            "  Downloading typing_extensions-4.14.1-py3-none-any.whl.metadata (3.0 kB)\n",
            "Requirement already satisfied: websocket-client~=1.8.0 in /usr/local/lib/python3.12/dist-packages (from selenium) (1.8.0)\n",
            "Requirement already satisfied: requests in /usr/local/lib/python3.12/dist-packages (from webdriver_manager) (2.32.4)\n",
            "Requirement already satisfied: python-dotenv in /usr/local/lib/python3.12/dist-packages (from webdriver_manager) (1.1.1)\n",
            "Requirement already satisfied: packaging in /usr/local/lib/python3.12/dist-packages (from webdriver_manager) (25.0)\n",
            "Requirement already satisfied: attrs>=23.2.0 in /usr/local/lib/python3.12/dist-packages (from trio~=0.30.0->selenium) (25.3.0)\n",
            "Requirement already satisfied: sortedcontainers in /usr/local/lib/python3.12/dist-packages (from trio~=0.30.0->selenium) (2.4.0)\n",
            "Requirement already satisfied: idna in /usr/local/lib/python3.12/dist-packages (from trio~=0.30.0->selenium) (3.10)\n",
            "Collecting outcome (from trio~=0.30.0->selenium)\n",
            "  Downloading outcome-1.3.0.post0-py2.py3-none-any.whl.metadata (2.6 kB)\n",
            "Requirement already satisfied: sniffio>=1.3.0 in /usr/local/lib/python3.12/dist-packages (from trio~=0.30.0->selenium) (1.3.1)\n",
            "Collecting wsproto>=0.14 (from trio-websocket~=0.12.2->selenium)\n",
            "  Downloading wsproto-1.2.0-py3-none-any.whl.metadata (5.6 kB)\n",
            "Requirement already satisfied: pysocks!=1.5.7,<2.0,>=1.5.6 in /usr/local/lib/python3.12/dist-packages (from urllib3[socks]<3.0,>=2.5.0->selenium) (1.7.1)\n",
            "Requirement already satisfied: charset_normalizer<4,>=2 in /usr/local/lib/python3.12/dist-packages (from requests->webdriver_manager) (3.4.3)\n",
            "Requirement already satisfied: h11<1,>=0.9.0 in /usr/local/lib/python3.12/dist-packages (from wsproto>=0.14->trio-websocket~=0.12.2->selenium) (0.16.0)\n",
            "Downloading selenium-4.35.0-py3-none-any.whl (9.6 MB)\n",
            "\u001b[2K   \u001b[90m━━━━━━━━━━━━━━━━━━━━━━━━━━━━━━━━━━━━━━━━\u001b[0m \u001b[32m9.6/9.6 MB\u001b[0m \u001b[31m58.7 MB/s\u001b[0m eta \u001b[36m0:00:00\u001b[0m\n",
            "\u001b[?25hDownloading webdriver_manager-4.0.2-py2.py3-none-any.whl (27 kB)\n",
            "Downloading trio-0.30.0-py3-none-any.whl (499 kB)\n",
            "\u001b[2K   \u001b[90m━━━━━━━━━━━━━━━━━━━━━━━━━━━━━━━━━━━━━━━━\u001b[0m \u001b[32m499.2/499.2 kB\u001b[0m \u001b[31m42.5 MB/s\u001b[0m eta \u001b[36m0:00:00\u001b[0m\n",
            "\u001b[?25hDownloading trio_websocket-0.12.2-py3-none-any.whl (21 kB)\n",
            "Downloading typing_extensions-4.14.1-py3-none-any.whl (43 kB)\n",
            "\u001b[2K   \u001b[90m━━━━━━━━━━━━━━━━━━━━━━━━━━━━━━━━━━━━━━━━\u001b[0m \u001b[32m43.9/43.9 kB\u001b[0m \u001b[31m3.3 MB/s\u001b[0m eta \u001b[36m0:00:00\u001b[0m\n",
            "\u001b[?25hDownloading outcome-1.3.0.post0-py2.py3-none-any.whl (10 kB)\n",
            "Downloading wsproto-1.2.0-py3-none-any.whl (24 kB)\n",
            "Installing collected packages: wsproto, typing_extensions, outcome, webdriver_manager, trio, trio-websocket, selenium\n",
            "  Attempting uninstall: typing_extensions\n",
            "    Found existing installation: typing_extensions 4.15.0\n",
            "    Uninstalling typing_extensions-4.15.0:\n",
            "      Successfully uninstalled typing_extensions-4.15.0\n",
            "Successfully installed outcome-1.3.0.post0 selenium-4.35.0 trio-0.30.0 trio-websocket-0.12.2 typing_extensions-4.14.1 webdriver_manager-4.0.2 wsproto-1.2.0\n"
          ]
        }
      ]
    },
    {
      "cell_type": "code",
      "source": [
        "from selenium import webdriver\n",
        "from selenium.webdriver.chrome.service import Service as ChromeService\n",
        "from webdriver_manager.chrome import ChromeDriverManager\n",
        "from selenium.webdriver.common.by import By\n",
        "from lxml import html\n",
        "import time\n",
        "\n",
        "chrome_options = webdriver.ChromeOptions()\n",
        "chrome_options.add_argument('--headless')               # 브라우저 창 없이 실행\n",
        "chrome_options.add_argument('--no-sandbox')             # 보안모드 비활성화 (Colab 필수)\n",
        "chrome_options.add_argument('--disable-dev-shm-usage')  # 메모리 부족 방지 (Colab 필수)\n",
        "chrome_options.add_argument('--window-size=1920x1080')  # 창 크기 설정(가상)\n",
        "chrome_options.add_argument('--disable-gpu')            # GPU 가속 비활성화 (일부 환경 안정성)\n",
        "chrome_options.binary_location = \"/usr/bin/google-chrome-stable\"  # Colab용 크롬 경로 지정\n",
        "\n",
        "## 드라이버 실행\n",
        "driver = webdriver.Chrome(options=chrome_options)\n",
        "\n",
        "## 사이트 접속\n",
        "url = 'https://professor.knou.ac.kr/jaehwachung/index.do'\n",
        "driver.get(url)\n",
        "## 사이트 접속 대기\n",
        "time.sleep(2)\n",
        "\n",
        "## 페이지 제목 출력\n",
        "page_source = driver.page_source\n",
        "tree = html.fromstring(page_source)\n",
        "\n",
        "title_text = tree.xpath('//title/text()')\n",
        "print(title_text)\n",
        "## 드라이버 종료\n",
        "driver.quit()"
      ],
      "metadata": {
        "id": "cRC8x3_iW0im",
        "outputId": "7e489f24-14f3-40b8-f7b4-4d3a979a2cde",
        "colab": {
          "base_uri": "https://localhost:8080/"
        }
      },
      "execution_count": null,
      "outputs": [
        {
          "output_type": "stream",
          "name": "stdout",
          "text": [
            "['\\n\\t\\tAlert \\n\\t\\t\\n\\t']\n"
          ]
        }
      ]
    },
    {
      "cell_type": "markdown",
      "source": [
        "\n",
        "# 실습 시나리오"
      ],
      "metadata": {
        "id": "Bu6OMZyGirOq"
      }
    },
    {
      "cell_type": "markdown",
      "source": [
        "## 공공데이터 포털 가입 및 데이터 신청\n",
        "\n",
        "- [https://www.data.go.kr](https://www.data.go.kr)\n",
        "- 한국환경공단 에어코리아 대기오염정보 데이터 신청"
      ],
      "metadata": {
        "id": "nsuqRN9RkZlW"
      }
    },
    {
      "cell_type": "code",
      "source": [
        "import requests\n",
        "\n",
        "## 데이터 수집 url 및 api key 설정, parameter는 공공데이터 요청변수 페이지에서 제공됨.\n",
        "url = 'http://'\n",
        "api_key = ''\n",
        "\n",
        "params = {\n",
        "    'serviceKey': api_key,\n",
        "    'returnType': 'json',\n",
        "    'numOfRows': '100',\n",
        "    'pageNo': '1',\n",
        "    'sidoName': '서울',\n",
        "    'ver': '1.0'\n",
        "}\n",
        "\n",
        "## 데이터 수집\n",
        "response = requests.get(url, params = params)\n",
        "## 호출 성공/실패 출력\n",
        "print(response.json())\n"
      ],
      "metadata": {
        "id": "7yCozmQeXJcO"
      },
      "execution_count": null,
      "outputs": []
    }
  ]
}