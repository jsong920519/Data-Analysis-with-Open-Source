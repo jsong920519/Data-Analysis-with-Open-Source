{
  "cells": [
    {
      "cell_type": "markdown",
      "metadata": {
        "id": "view-in-github",
        "colab_type": "text"
      },
      "source": [
        "<a href=\"https://colab.research.google.com/github/jsong920519/Data-Analysis-with-Open-Source/blob/main/%EC%98%A4%ED%94%88%EC%86%8C%EC%8A%A4_%EB%8D%B0%EC%9D%B4%ED%84%B0_%EB%B6%84%EC%84%9D_3%EA%B0%95%20%EB%B3%B5%EC%8A%B5%20%EC%99%84%EB%A3%8C.ipynb\" target=\"_parent\"><img src=\"https://colab.research.google.com/assets/colab-badge.svg\" alt=\"Open In Colab\"/></a>"
      ]
    },
    {
      "cell_type": "markdown",
      "metadata": {
        "id": "DkPKaAsoRq5Q"
      },
      "source": [
        "\n",
        "\n",
        "# 오픈소스 기반 데이터 분석 3강 - 데이터 분석을 위한 파이썬 2\n"
      ]
    },
    {
      "cell_type": "markdown",
      "metadata": {
        "id": "-I7BVVlnRrB0"
      },
      "source": [
        "## 3-1 언패킹"
      ]
    },
    {
      "cell_type": "code",
      "execution_count": 2,
      "metadata": {
        "id": "2Y2HEiaiRwAI",
        "outputId": "4aab6abb-9f63-44e0-a372-79e46d35ce7c",
        "colab": {
          "base_uri": "https://localhost:8080/"
        }
      },
      "outputs": [
        {
          "output_type": "stream",
          "name": "stdout",
          "text": [
            "x좌표: 10, y좌표: 20\n",
            "빨강: 255, 초록: 128, 파랑: 0\n",
            "첫 번째 문자: A, 두 번째 문자: B, 세 번째 문자: C\n"
          ]
        }
      ],
      "source": [
        "coordinates = (10, 20)\n",
        "x, y = coordinates\n",
        "# 튜플 언패킹\n",
        "\n",
        "print(f'x좌표: {x}, y좌표: {y}')\n",
        "\n",
        "rgb = [255, 128, 0]\n",
        "# 리스트 언패킹\n",
        "red,green,blue = rgb\n",
        "print(f'빨강: {red}, 초록: {green}, 파랑: {blue}')\n",
        "\n",
        "word = 'ABC'\n",
        "# 문자열 언패킹\n",
        "first,second,third = word\n",
        "print(f'첫 번째 문자: {first}, 두 번째 문자: {second}, 세 번째 문자: {third}')"
      ]
    },
    {
      "cell_type": "code",
      "execution_count": 3,
      "metadata": {
        "id": "IO8bsKekR0W_",
        "outputId": "c4a30cc3-ff97-4412-f9b6-5b23c6a6bed1",
        "colab": {
          "base_uri": "https://localhost:8080/"
        }
      },
      "outputs": [
        {
          "output_type": "stream",
          "name": "stdout",
          "text": [
            "최솟값: 5, 최댓값: 32, 평균: 15.57\n"
          ]
        }
      ],
      "source": [
        "def get_dataset_stats(values):\n",
        "  return min(values), max(values), sum(values) / len(values)\n",
        "\n",
        "data = [12, 8, 21, 17, 5, 32, 14]\n",
        "\n",
        "# 함수값 return 언패킹\n",
        "minimum, maximum, average = get_dataset_stats(data)\n",
        "print(f'최솟값: {minimum}, 최댓값: {maximum}, 평균: {average:.2f}')"
      ]
    },
    {
      "cell_type": "code",
      "execution_count": 4,
      "metadata": {
        "id": "60qOf7uxVdAg",
        "outputId": "bd1ba8ad-1e82-43c0-a4ec-de94b176ae9e",
        "colab": {
          "base_uri": "https://localhost:8080/"
        }
      },
      "outputs": [
        {
          "output_type": "stream",
          "name": "stdout",
          "text": [
            "김철수의 평균 점수: 85.0\n",
            "이영희의 평균 점수: 91.7\n",
            "박지민의 평균 점수: 82.7\n"
          ]
        }
      ],
      "source": [
        "student_scores = [\n",
        "    ('김철수', 85, 92, 78),\n",
        "    ('이영희', 92, 88, 95),\n",
        "    ('박지민', 75, 83, 90)\n",
        "]\n",
        "\n",
        "# 반복문에서 언패킹 사용\n",
        "for name, database, python, cloud in student_scores:\n",
        "  average = (database + python + cloud) / 3\n",
        "  print(f'{name}의 평균 점수: {average:.1f}')"
      ]
    },
    {
      "cell_type": "code",
      "execution_count": null,
      "metadata": {
        "id": "JpmgdsW9V0CY",
        "outputId": "bceab5f2-1450-47cd-a246-f163e97ee73c",
        "colab": {
          "base_uri": "https://localhost:8080/"
        }
      },
      "outputs": [
        {
          "output_type": "stream",
          "name": "stdout",
          "text": [
            "1월 판매액: 1200\n",
            "2월 판매액: 1350\n",
            "나머지 월 판매액: [1420, 1500, 1300, 1580, 1620, 1700, 1800, 1850, 1900, 2000]\n",
            "첫 달(1월) 판매액: 1200\n",
            "마지막 달(12월) 판매액: 2000\n",
            "중간 달(2~11월)의 판매액: [1350, 1420, 1500, 1300, 1580, 1620, 1700, 1800, 1850, 1900]\n"
          ]
        }
      ],
      "source": [
        "monthly_sales = [1200, 1350, 1420, 1500, 1300, 1580, 1620, 1700, 1800, 1850, 1900, 2000]\n",
        "\n",
        "# 1월, 2월 및 나머지 월 매출액\n",
        "first, second, *remaining = monthly_sales\n",
        "print(f'1월 판매액: {first}')\n",
        "print(f'2월 판매액: {second}')\n",
        "print(f'나머지 월 판매액: {remaining}')\n",
        "\n",
        "# 1월, 12월 및 나머지 월 매출액\n",
        "first, *middle, last = monthly_sales\n",
        "print(f'첫 달(1월) 판매액: {first}')\n",
        "print(f'마지막 달(12월) 판매액: {last}')\n",
        "print(f'중간 달(2~11월)의 판매액: {middle}')"
      ]
    },
    {
      "cell_type": "markdown",
      "metadata": {
        "id": "RLfPaa1ZiqIC"
      },
      "source": [
        "## 3-5 언더스코어"
      ]
    },
    {
      "cell_type": "code",
      "execution_count": 5,
      "metadata": {
        "id": "cRC8x3_iW0im",
        "outputId": "4c01e8d3-48eb-46ef-a8df-522a8a946440",
        "colab": {
          "base_uri": "https://localhost:8080/"
        }
      },
      "outputs": [
        {
          "output_type": "stream",
          "name": "stdout",
          "text": [
            "김철수의 성적: 3.8\n",
            "이영희의 성적: 4.2\n",
            "박민수의 성적: 3.5\n"
          ]
        }
      ],
      "source": [
        "students = [\n",
        "    (20251234, '김철수', '컴퓨터과학', 2, 3.8),\n",
        "    (20265678, '이영희', '생활과학부', 3, 4.2),\n",
        "    (20243456, '박민수', '사회복지학과', 1, 3.5)\n",
        "]\n",
        "\n",
        "# 이름 및 성적 만 출력\n",
        "for  _, name, _, _, grade in students:\n",
        "    print(f'{name}의 성적: {grade}')"
      ]
    },
    {
      "cell_type": "code",
      "execution_count": 6,
      "metadata": {
        "id": "oYTUmCiXzIvV",
        "outputId": "7ef61d34-9dcc-48b2-e406-ae8493cf52a0",
        "colab": {
          "base_uri": "https://localhost:8080/"
        }
      },
      "outputs": [
        {
          "output_type": "stream",
          "name": "stdout",
          "text": [
            "20\n"
          ]
        }
      ],
      "source": [
        "def get_coordinates( ):\n",
        "    return (10, 20, 30)\n",
        "\n",
        "# 함수 return 값 언더스코어 사용\n",
        "_, y, _ = get_coordinates()\n",
        "\n",
        "print(y)"
      ]
    },
    {
      "cell_type": "markdown",
      "metadata": {
        "id": "bkA3HL5QzIvV"
      },
      "source": [
        "## 3-2 예외 처리"
      ]
    },
    {
      "cell_type": "code",
      "execution_count": null,
      "metadata": {
        "id": "IgUsqEAgzIvV"
      },
      "outputs": [],
      "source": [
        "number = int(input('정수를 입력하세요: '))\n",
        "result = 10 / number\n",
        "print(f'결과: {result}')"
      ]
    },
    {
      "cell_type": "code",
      "execution_count": null,
      "metadata": {
        "id": "sGaFzT-WzdQF",
        "outputId": "2f15753a-c116-4ff5-dd67-a862355c38e7",
        "colab": {
          "base_uri": "https://localhost:8080/"
        }
      },
      "outputs": [
        {
          "output_type": "stream",
          "name": "stdout",
          "text": [
            "정수를 입력하세요: 0\n",
            "0으로 나눌 수 없습니다.\n"
          ]
        }
      ],
      "source": [
        "number = int(input('정수를 입력하세요: '))\n",
        "\n",
        "# try 문\n",
        "try:\n",
        "  result = 10 / number\n",
        "  print(f'결과: {result}')\n",
        "\n",
        "# except 문\n",
        "except:\n",
        "  print('0으로 나눌 수 없습니다.')"
      ]
    },
    {
      "cell_type": "code",
      "execution_count": null,
      "metadata": {
        "id": "aJycqfJvzdGc",
        "outputId": "6396650e-ffb5-4763-bacd-8ab1cd6ce107",
        "colab": {
          "base_uri": "https://localhost:8080/"
        }
      },
      "outputs": [
        {
          "output_type": "stream",
          "name": "stdout",
          "text": [
            "숫자를 입력하세요: a\n",
            "유효한 숫자를 입력해야 합니다.\n"
          ]
        }
      ],
      "source": [
        "# try 문\n",
        "try:\n",
        "  number = int(input('숫자를 입력하세요: '))\n",
        "  result = 10 / number\n",
        "  print(f'결과: {result}')\n",
        "# except 문 1\n",
        "except ValueError:\n",
        "  print('유효한 숫자를 입력해야 합니다.')\n",
        "\n",
        "# except 문 2\n",
        "except ZeroDivisionError:\n",
        "  print('0으로 나눌 수 없습니다.')\n",
        "\n"
      ]
    },
    {
      "cell_type": "code",
      "execution_count": 8,
      "metadata": {
        "id": "lPcWWLiJ0ws4",
        "outputId": "daa92cdc-5431-43b6-881b-a7aad73d9bbf",
        "colab": {
          "base_uri": "https://localhost:8080/",
          "height": 211
        }
      },
      "outputs": [
        {
          "output_type": "stream",
          "name": "stdout",
          "text": [
            "파일을 찾을 수 없습니다.\n",
            "파일 작업 종료.\n"
          ]
        },
        {
          "output_type": "error",
          "ename": "NameError",
          "evalue": "name 'file' is not defined",
          "traceback": [
            "\u001b[0;31m---------------------------------------------------------------------------\u001b[0m",
            "\u001b[0;31mNameError\u001b[0m                                 Traceback (most recent call last)",
            "\u001b[0;32m/tmp/ipython-input-676650600.py\u001b[0m in \u001b[0;36m<cell line: 0>\u001b[0;34m()\u001b[0m\n\u001b[1;32m     12\u001b[0m \u001b[0;32mfinally\u001b[0m\u001b[0;34m:\u001b[0m\u001b[0;34m\u001b[0m\u001b[0;34m\u001b[0m\u001b[0m\n\u001b[1;32m     13\u001b[0m   \u001b[0mprint\u001b[0m\u001b[0;34m(\u001b[0m\u001b[0;34m'파일 작업 종료.'\u001b[0m\u001b[0;34m)\u001b[0m\u001b[0;34m\u001b[0m\u001b[0;34m\u001b[0m\u001b[0m\n\u001b[0;32m---> 14\u001b[0;31m   \u001b[0mfile\u001b[0m\u001b[0;34m.\u001b[0m\u001b[0mclose\u001b[0m\u001b[0;34m(\u001b[0m \u001b[0;34m)\u001b[0m\u001b[0;34m\u001b[0m\u001b[0;34m\u001b[0m\u001b[0m\n\u001b[0m",
            "\u001b[0;31mNameError\u001b[0m: name 'file' is not defined"
          ]
        }
      ],
      "source": [
        "# try 문\n",
        "try:\n",
        "  file = open('data.csv', 'r')\n",
        "  content = file.read( )\n",
        "  print(content)\n",
        "\n",
        "# except 문\n",
        "except FileNotFoundError:\n",
        "  print('파일을 찾을 수 없습니다.')\n",
        "\n",
        "# fianlly 블럭\n",
        "finally:\n",
        "  print('파일 작업 종료.')\n",
        "  file.close( )"
      ]
    },
    {
      "cell_type": "markdown",
      "metadata": {
        "id": "l0YVL4ArzIvV"
      },
      "source": [
        "## 3-3 함수형 프로그래밍"
      ]
    },
    {
      "cell_type": "code",
      "execution_count": 12,
      "metadata": {
        "id": "Syg5knhezIvV",
        "outputId": "76a34aa2-def7-4761-b88f-d0c3267b889b",
        "colab": {
          "base_uri": "https://localhost:8080/"
        }
      },
      "outputs": [
        {
          "output_type": "stream",
          "name": "stdout",
          "text": [
            "{'이지혜': 3300000, '구민준': 5500000, '방서연': 4510000}\n"
          ]
        }
      ],
      "source": [
        "employees = {\n",
        "    '이지혜': 3000000,\n",
        "    '구민준': 5000000,\n",
        "    '방서연': 4100000\n",
        "}\n",
        "\n",
        "# 함수 정의: salary * 1.1\n",
        "adjust_salary = lambda salary: int(salary * 1.1)\n",
        "updated_salaries = {name: adjust_salary(salary) for name, salary in employees.items()}\n",
        "# 급여 인상\n",
        "\n",
        "print(updated_salaries)"
      ]
    },
    {
      "cell_type": "code",
      "execution_count": 15,
      "metadata": {
        "id": "KM0psbppzIvV",
        "outputId": "8e9efe43-d8ad-495e-dc71-fb9200160f29",
        "colab": {
          "base_uri": "https://localhost:8080/"
        }
      },
      "outputs": [
        {
          "output_type": "stream",
          "name": "stdout",
          "text": [
            "섭씨 온도 데이터: [25.6, 27.8, 30.5, 22.3, 28.9, 31.2, 24.7]\n",
            "화씨 온도로 변환: [78.08, 82.04, 86.9, 72.14, 84.02, 88.16, 76.46]\n",
            "화씨 온도로 변환: [78.08, 82.04, 86.9, 72.14, 84.02, 88.16, 76.46]\n"
          ]
        }
      ],
      "source": [
        "temperature_celsius = [25.6, 27.8, 30.5, 22.3, 28.9, 31.2, 24.7]\n",
        "\n",
        "# 함수 정의: 섭씨 -> 화씨\n",
        "cel_to_fah =lambda c: (c*9/5) + 32\n",
        "# 온도 변환\n",
        "temperature_fahrenheit = list(map(cel_to_fah, temperature_celsius))\n",
        "\n",
        "print('섭씨 온도 데이터:', temperature_celsius)\n",
        "print('화씨 온도로 변환:', temperature_fahrenheit)\n",
        "\n",
        "\n",
        "temperature_celsius = [25.6, 27.8, 30.5, 22.3, 28.9, 31.2, 24.7]\n",
        "\n",
        "\n",
        "# 온도 변환\n",
        "temperature_fahrenheit = list(map(lambda c: (c*9/5) + 32, temperature_celsius))\n",
        "\n",
        "\n",
        "print('화씨 온도로 변환:', temperature_fahrenheit)"
      ]
    },
    {
      "cell_type": "code",
      "execution_count": 14,
      "metadata": {
        "id": "rG3nqqfDzIvW",
        "outputId": "dea68e1a-e7d0-4233-c950-538c0e068bf4",
        "colab": {
          "base_uri": "https://localhost:8080/"
        }
      },
      "outputs": [
        {
          "output_type": "stream",
          "name": "stdout",
          "text": [
            "['PYTHON', 'DATA', 'ANALYSIS']\n"
          ]
        }
      ],
      "source": [
        "words = ['python', 'data', 'analysis']\n",
        "\n",
        "# 함수 정의 및 대문자화\n",
        "\n",
        "uppercase_words = list(map(lambda word: word.upper(), words))\n",
        "print(uppercase_words)"
      ]
    },
    {
      "cell_type": "code",
      "execution_count": 22,
      "metadata": {
        "id": "9tFlZojhzIvW",
        "outputId": "30c89770-f4fe-4df2-e214-5e27f996ffde",
        "colab": {
          "base_uri": "https://localhost:8080/"
        }
      },
      "outputs": [
        {
          "output_type": "stream",
          "name": "stdout",
          "text": [
            "\n",
            "급여 인상 후:\n",
            "김지원: 4,070,000원\n",
            "박민준: 7,700,000원\n",
            "이서연: 4,840,000원\n",
            "정현우: 3,850,000원\n",
            "[{'name': '김지원', 'salary': 4070000.0000000005}, {'name': '박민준', 'salary': 7700000.000000001}, {'name': '이서연', 'salary': 4840000.0}, {'name': '정현우', 'salary': 3850000.0000000005}]\n"
          ]
        }
      ],
      "source": [
        "employees = [\n",
        "    {'name': '김지원', 'salary': 3700000},\n",
        "    {'name': '박민준', 'salary': 7000000},\n",
        "    {'name': '이서연', 'salary': 4400000},\n",
        "    {'name': '정현우', 'salary': 3500000}\n",
        "]\n",
        "\n",
        "# salary * 1.1\n",
        "updated_employees = list(map(lambda emp: {'name':emp['name'], 'salary': emp['salary']*1.1},employees))\n",
        "\n",
        "print('\\n급여 인상 후:')\n",
        "\n",
        "for emp in updated_employees:\n",
        "    print(f'{emp['name']}: {int(emp['salary']):,}원')\n",
        "\n",
        "print(updated_employees)"
      ]
    },
    {
      "cell_type": "code",
      "execution_count": 19,
      "metadata": {
        "id": "WHQxVdiuzIvW",
        "outputId": "0b54ef94-2c87-4f5b-ca6f-2dd228a80d38",
        "colab": {
          "base_uri": "https://localhost:8080/"
        }
      },
      "outputs": [
        {
          "output_type": "stream",
          "name": "stdout",
          "text": [
            "[10, 20, 30]\n"
          ]
        }
      ],
      "source": [
        "numbers = [10, 15, 20, 25, 30]\n",
        "\n",
        "# 짝수 필터링\n",
        "\n",
        "even_numbers = list(filter(lambda number: number%2==0, numbers))\n",
        "\n",
        "\n",
        "print(even_numbers)"
      ]
    },
    {
      "cell_type": "code",
      "execution_count": null,
      "metadata": {
        "id": "1E-RQnBfzIvW",
        "outputId": "b9d80929-ed54-4174-92c8-7bfcc8bb880e",
        "colab": {
          "base_uri": "https://localhost:8080/"
        }
      },
      "outputs": [
        {
          "output_type": "stream",
          "name": "stdout",
          "text": [
            "이름: 김지원, 점수: 85\n",
            "이름: 박서연, 점수: 90\n",
            "이름: 최예은, 점수: 78\n"
          ]
        }
      ],
      "source": [
        "osda_students = [\n",
        "    {'name': '김지원', 'score': 85},\n",
        "    {'name': '이민준', 'score': 65},\n",
        "    {'name': '박서연', 'score': 90},\n",
        "    {'name': '정현우', 'score': 55},\n",
        "    {'name': '최예은', 'score': 78}\n",
        "]\n",
        "\n",
        "# 70점 이상 학생 목록 생성\n",
        "passed_students = list(filter(lambda student: student['score']>=70, osda_students))\n",
        "for student in passed_students:\n",
        "    print(f'이름: {student[\"name\"]}, 점수: {student[\"score\"]}')"
      ]
    },
    {
      "cell_type": "code",
      "execution_count": 21,
      "metadata": {
        "id": "1sVaIuwFzIvW",
        "outputId": "634ef8e1-8937-4874-dfd2-47d6bd36e7c8",
        "colab": {
          "base_uri": "https://localhost:8080/"
        }
      },
      "outputs": [
        {
          "output_type": "stream",
          "name": "stdout",
          "text": [
            "9\n"
          ]
        }
      ],
      "source": [
        "from functools import reduce\n",
        "\n",
        "numbers = [3, 7, 2, 9, 5]\n",
        "\n",
        "# 최대값 생성\n",
        "max_value = reduce(lambda x,y: x if x>y else y, numbers)\n",
        "\n",
        "print(max_value)"
      ]
    }
  ],
  "metadata": {
    "colab": {
      "provenance": [],
      "include_colab_link": true
    },
    "kernelspec": {
      "display_name": "Python 3",
      "name": "python3"
    },
    "language_info": {
      "name": "python"
    }
  },
  "nbformat": 4,
  "nbformat_minor": 0
}